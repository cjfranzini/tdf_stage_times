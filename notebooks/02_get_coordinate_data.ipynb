{
 "cells": [
  {
   "cell_type": "markdown",
   "metadata": {},
   "source": [
    "# Get latitude and longitude data for start and finish stage towns #\n",
    "This notebook uses Geopy to gather latitude and longitude points for each stage's start and finish towns."
   ]
  },
  {
   "cell_type": "code",
   "execution_count": 1,
   "metadata": {
    "ExecuteTime": {
     "end_time": "2017-04-25T18:20:12.144520Z",
     "start_time": "2017-04-25T14:20:10.956956-04:00"
    }
   },
   "outputs": [
    {
     "name": "stdout",
     "output_type": "stream",
     "text": [
      "Populating the interactive namespace from numpy and matplotlib\n"
     ]
    }
   ],
   "source": [
    "import pickle\n",
    "import pandas as pd\n",
    "import geopy\n",
    "from geopy.geocoders import Nominatim\n",
    "import time\n",
    "\n",
    "%pylab inline\n",
    "plt.style.use('ggplot')"
   ]
  },
  {
   "cell_type": "markdown",
   "metadata": {},
   "source": [
    "### Load in and join cleaned data ###"
   ]
  },
  {
   "cell_type": "code",
   "execution_count": 2,
   "metadata": {
    "ExecuteTime": {
     "end_time": "2017-04-25T18:20:12.151369Z",
     "start_time": "2017-04-25T14:20:12.147242-04:00"
    },
    "collapsed": true
   },
   "outputs": [],
   "source": [
    "tdf0811 = pickle.load(open('tdf_0811_geo.p','rb'))\n",
    "tdf1216 = pickle.load(open('tdf_1216_geo.p','rb'))"
   ]
  },
  {
   "cell_type": "code",
   "execution_count": 3,
   "metadata": {
    "ExecuteTime": {
     "end_time": "2017-04-25T18:20:12.158131Z",
     "start_time": "2017-04-25T14:20:12.154736-04:00"
    },
    "collapsed": true
   },
   "outputs": [],
   "source": [
    "tdf0816 = tdf0811.append(tdf1216,ignore_index=True).reset_index()\n",
    "tdf0816.drop('index',axis=1,inplace=True)"
   ]
  },
  {
   "cell_type": "markdown",
   "metadata": {},
   "source": [
    "### Gather location coordinates ###"
   ]
  },
  {
   "cell_type": "code",
   "execution_count": 4,
   "metadata": {
    "ExecuteTime": {
     "end_time": "2017-04-25T18:20:12.178064Z",
     "start_time": "2017-04-25T14:20:12.161472-04:00"
    },
    "collapsed": true,
    "run_control": {
     "marked": false
    }
   },
   "outputs": [],
   "source": [
    "def get_coordinates(df):\n",
    "    geolocator = Nominatim()\n",
    "    coords = ['start_lat','start_lon','finish_lat','finish_lon']\n",
    "    \n",
    "    for coord in coords:\n",
    "        if coord.split('_')[1] == 'lat':\n",
    "            flag = 0\n",
    "        else:\n",
    "            flag = 1\n",
    "    \n",
    "        for i in df.index:\n",
    "            x = df.loc[i,coord.split('_')[0]]\n",
    "            \n",
    "            try:\n",
    "                df.set_value(i,coord,geolocator.geocode(x)[-1][flag])\n",
    "            except:\n",
    "                df.set_value(i,coord,None)\n",
    "                \n",
    "            time.sleep(1)\n",
    "                \n",
    "    return df"
   ]
  },
  {
   "cell_type": "code",
   "execution_count": 5,
   "metadata": {
    "ExecuteTime": {
     "end_time": "2017-04-25T18:20:12.186884Z",
     "start_time": "2017-04-25T14:20:12.181215-04:00"
    },
    "collapsed": true
   },
   "outputs": [],
   "source": [
    "tdf0816 = get_coordinates(tdf0816)"
   ]
  },
  {
   "cell_type": "code",
   "execution_count": 6,
   "metadata": {
    "ExecuteTime": {
     "end_time": "2017-04-25T18:20:12.197074Z",
     "start_time": "2017-04-25T14:20:12.189917-04:00"
    },
    "collapsed": true
   },
   "outputs": [],
   "source": [
    "# pickle raw location collection\n",
    "pickle.dump(tdf0816,open('tdf0816_geo_data.p','wb'))"
   ]
  },
  {
   "cell_type": "markdown",
   "metadata": {},
   "source": [
    "### Manually add missing or incorrect coordinates ###"
   ]
  },
  {
   "cell_type": "code",
   "execution_count": 7,
   "metadata": {
    "ExecuteTime": {
     "end_time": "2017-04-25T18:20:12.209026Z",
     "start_time": "2017-04-25T14:20:12.202531-04:00"
    },
    "collapsed": true
   },
   "outputs": [],
   "source": [
    "tdf0816 = pickle.load(open('tdf0816_geo_data.p','rb'))"
   ]
  },
  {
   "cell_type": "code",
   "execution_count": 8,
   "metadata": {
    "ExecuteTime": {
     "end_time": "2017-04-25T18:20:12.250006Z",
     "start_time": "2017-04-25T14:20:12.212921-04:00"
    },
    "collapsed": true
   },
   "outputs": [],
   "source": [
    "geolocator = Nominatim()\n",
    "\n",
    "tdf0816.set_value(0,'start_lat',geolocator.geocode('La Barre de Monts')[-1][0]);\n",
    "tdf0816.set_value(0,'start_lon',geolocator.geocode('La Barre de Monts')[-1][1]);\n",
    "\n",
    "tdf0816.set_value(7,'start_lat',geolocator.geocode('Aigurande')[-1][0]);\n",
    "tdf0816.set_value(7,'start_lon',geolocator.geocode('Aigurande')[-1][1]);\n",
    "\n",
    "tdf0816.set_value(11,'start_lat',geolocator.geocode('Cugnaux')[-1][0]);\n",
    "tdf0816.set_value(11,'start_lon',geolocator.geocode('Cugnaux')[-1][1]);\n",
    "\n",
    "tdf0816.set_value(15,'start_lat',geolocator.geocode('Saint-Paul-Trois-Châteaux')[-1][0]);\n",
    "tdf0816.set_value(15,'start_lon',geolocator.geocode('Saint-Paul-Trois-Châteaux')[-1][1]);\n",
    "\n",
    "tdf0816.set_value(18,'start_lat',geolocator.geocode('Modane Valfréjus')[-1][0]);\n",
    "tdf0816.set_value(18,'start_lon',geolocator.geocode('Modane Valfréjus')[-1][1]);\n",
    "\n",
    "tdf0816.set_value(20,'start_lat',geolocator.geocode('Créteil')[-1][0]);\n",
    "tdf0816.set_value(20,'start_lon',geolocator.geocode('Créteil')[-1][1]);\n",
    "\n",
    "tdf0816.set_value(23,'start_lon',4.2233215);\n",
    "\n",
    "tdf0816.set_value(26,'start_lat',geolocator.geocode('Épernay')[-1][0]);\n",
    "tdf0816.set_value(26,'start_lon',geolocator.geocode('Épernay')[-1][1]);\n",
    "\n",
    "tdf0816.set_value(27,'start_lat',geolocator.geocode('Montargis')[-1][0]);\n",
    "tdf0816.set_value(27,'start_lon',geolocator.geocode('Montargis')[-1][1]);\n",
    "\n",
    "tdf0816.set_value(31,'start_lat',geolocator.geocode('Chambéry')[-1][0]);\n",
    "tdf0816.set_value(31,'start_lon',geolocator.geocode('Chambéry')[-1][1]);\n",
    "\n",
    "tdf0816.set_value(35,'start_lat',geolocator.geocode('Revel France')[-1][0]);\n",
    "tdf0816.set_value(35,'start_lon',geolocator.geocode('Revel France')[-1][1]);\n",
    "\n",
    "tdf0816.set_value(37,'start_lat',geolocator.geocode('Bagnères-de-Luchon')[-1][0]);\n",
    "tdf0816.set_value(37,'start_lon',geolocator.geocode('Bagnères-de-Luchon')[-1][1]);\n",
    "\n",
    "tdf0816.set_value(39,'start_lat',geolocator.geocode('Salies-de-Béarn')[-1][0]);\n",
    "tdf0816.set_value(39,'start_lon',geolocator.geocode('Salies-de-Béarn')[-1][1]);\n",
    "\n",
    "tdf0816.set_value(50,'start_lat',geolocator.geocode('Saint-Gaudens')[-1][0]);\n",
    "tdf0816.set_value(50,'start_lon',geolocator.geocode('Saint-Gaudens')[-1][1]);\n",
    "\n",
    "tdf0816.set_value(61,'start_lat',geolocator.geocode('Montélimar')[-1][0]);\n",
    "tdf0816.set_value(61,'start_lon',geolocator.geocode('Montélimar')[-1][1]);\n",
    "\n",
    "tdf0816.set_value(68,'start_lat',geolocator.geocode('Aigurande')[-1][0]);\n",
    "tdf0816.set_value(68,'start_lon',geolocator.geocode('Aigurande')[-1][1]);\n",
    "\n",
    "tdf0816.set_value(82,'start_lat',geolocator.geocode('Cérilly')[-1][0]);\n",
    "tdf0816.set_value(82,'start_lon',geolocator.geocode('Cérilly')[-1][1]);\n",
    "\n",
    "tdf0816.set_value(83,'start_lat',geolocator.geocode('Étampes')[-1][0]);\n",
    "tdf0816.set_value(83,'start_lon',geolocator.geocode('Étampes')[-1][1]);\n",
    "\n",
    "tdf0816.set_value(85,'start_lat',geolocator.geocode('Saint-Lô')[-1][0]);\n",
    "tdf0816.set_value(85,'start_lon',geolocator.geocode('Saint-Lô')[-1][1]);\n",
    "\n",
    "tdf0816.set_value(119,'start_lat',geolocator.geocode('Mende')[-1][0]);\n",
    "tdf0816.set_value(119,'start_lon',geolocator.geocode('Mende')[-1][1]);\n",
    "\n",
    "tdf0816.set_value(120,'start_lat',geolocator.geocode('Bourg-de-Péage')[-1][0]);\n",
    "tdf0816.set_value(120,'start_lon',geolocator.geocode('Bourg-de-Péage')[-1][1]);\n",
    "\n",
    "tdf0816.set_value(121,'start_lat',geolocator.geocode('Digne-les-Bains')[-1][0]);\n",
    "tdf0816.set_value(121,'start_lon',geolocator.geocode('Digne-les-Bains')[-1][1]);\n",
    "\n",
    "tdf0816.set_value(122,'start_lat',geolocator.geocode('Gap')[-1][0]);\n",
    "tdf0816.set_value(122,'start_lon',geolocator.geocode('Gap')[-1][1]);\n",
    "\n",
    "tdf0816.set_value(123,'start_lat',geolocator.geocode('Saint-Jean-de-Maurienne')[-1][0]);\n",
    "tdf0816.set_value(123,'start_lon',geolocator.geocode('Saint-Jean-de-Maurienne')[-1][1]);\n",
    "\n",
    "tdf0816.set_value(125,'start_lat',geolocator.geocode('Sèvres - Grand Paris Seine Ouest')[-1][0]);\n",
    "tdf0816.set_value(125,'start_lon',geolocator.geocode('Sèvres - Grand Paris Seine Ouest')[-1][1]);\n",
    "\n",
    "tdf0816.set_value(140,'start_lat',geolocator.geocode('Tallard')[-1][0]);\n",
    "tdf0816.set_value(140,'start_lon',geolocator.geocode('Tallard')[-1][1]);\n",
    "\n",
    "tdf0816.set_value(144,'start_lat',geolocator.geocode('Maubourguet')[-1][0]);\n",
    "tdf0816.set_value(144,'start_lon',geolocator.geocode('Maubourguet')[-1][1]);\n",
    "\n",
    "tdf0816.set_value(161,'start_lat',geolocator.geocode('Givors')[-1][0]);\n",
    "tdf0816.set_value(161,'start_lon',geolocator.geocode('Givors')[-1][1]);\n",
    "\n",
    "tdf0816.set_value(183,'start_lat',geolocator.geocode('Samatan')[-1][0]);\n",
    "tdf0816.set_value(183,'start_lon',geolocator.geocode('Samatan')[-1][1]);\n",
    "\n",
    "tdf0816.set_value(184,'start_lat',geolocator.geocode('Pau')[-1][0]);\n",
    "tdf0816.set_value(184,'start_lon',geolocator.geocode('Pau')[-1][1]);\n",
    "\n",
    "tdf0816.set_value(185,'start_lat',geolocator.geocode('Bagnères-de-Luchon')[-1][0]);\n",
    "tdf0816.set_value(185,'start_lon',geolocator.geocode('Bagnères-de-Luchon')[-1][1]);\n",
    "\n",
    "tdf0816.set_value(186,'start_lat',geolocator.geocode('Blagnac')[-1][0]);\n",
    "tdf0816.set_value(186,'start_lon',geolocator.geocode('Blagnac')[-1][1]);"
   ]
  },
  {
   "cell_type": "code",
   "execution_count": 9,
   "metadata": {
    "ExecuteTime": {
     "end_time": "2017-04-25T18:20:12.281700Z",
     "start_time": "2017-04-25T14:20:12.253198-04:00"
    },
    "collapsed": true
   },
   "outputs": [],
   "source": [
    "geolocator = Nominatim()\n",
    "\n",
    "tdf0816.set_value(3,'finish_lat',geolocator.geocode('Mûr-de-Bretagne')[-1][0]);\n",
    "tdf0816.set_value(3,'finish_lon',geolocator.geocode('Mûr-de-Bretagne')[-1][1]);\n",
    "\n",
    "tdf0816.set_value(4,'finish_lat',geolocator.geocode('Cap Frèhel')[-1][0]);\n",
    "tdf0816.set_value(4,'finish_lon',geolocator.geocode('Cap Frèhel')[-1][1]);\n",
    "\n",
    "tdf0816.set_value(6,'finish_lat',geolocator.geocode('Châteauroux')[-1][0]);\n",
    "tdf0816.set_value(6,'finish_lon',geolocator.geocode('Châteauroux')[-1][1]);\n",
    "\n",
    "tdf0816.set_value(17,'finish_lat',geolocator.geocode('Serre Chevalier')[-1][0]);\n",
    "tdf0816.set_value(17,'finish_lon',geolocator.geocode('Serre Chevalier')[-1][1]);\n",
    "\n",
    "tdf0816.set_value(18,'finish_lat',geolocator.geocode(\"Alpe d'Huez France\")[-1][0]);\n",
    "tdf0816.set_value(18,'finish_lon',geolocator.geocode(\"Alpe d'Huez France\")[-1][1]);\n",
    "\n",
    "tdf0816.set_value(22,'finish_lat',geolocator.geocode('Brussels')[-1][0]);\n",
    "tdf0816.set_value(22,'finish_lon',geolocator.geocode('Brussels')[-1][1]);\n",
    "\n",
    "tdf0816.set_value(24,'finish_lat',geolocator.geocode('Arenberg')[-1][0]);\n",
    "tdf0816.set_value(24,'finish_lon',geolocator.geocode('Arenberg')[-1][1]);\n",
    "\n",
    "tdf0816.set_value(32,'finish_lat',geolocator.geocode('Bourg-lès-Valence')[-1][0]);\n",
    "tdf0816.set_value(32,'finish_lon',geolocator.geocode('Bourg-lès-Valence')[-1][1]);\n",
    "\n",
    "tdf0816.set_value(34,'finish_lat',geolocator.geocode('Revel France')[-1][0]);\n",
    "tdf0816.set_value(34,'finish_lon',geolocator.geocode('Revel France')[-1][1]);\n",
    "\n",
    "tdf0816.set_value(36,'finish_lat',geolocator.geocode('Bagnères-de-Luchon')[-1][0]);\n",
    "tdf0816.set_value(36,'finish_lon',geolocator.geocode('Bagnères-de-Luchon')[-1][1]);\n",
    "\n",
    "tdf0816.set_value(55,'finish_lat',geolocator.geocode('Besançon')[-1][0]);\n",
    "tdf0816.set_value(55,'finish_lon',geolocator.geocode('Besançon')[-1][1]);\n",
    "\n",
    "tdf0816.set_value(57,'finish_lat',geolocator.geocode('Bourg-Saint-Maurice')[-1][0]);\n",
    "tdf0816.set_value(57,'finish_lon',geolocator.geocode('Bourg-Saint-Maurice')[-1][1]);\n",
    "\n",
    "tdf0816.set_value(67,'finish_lat',geolocator.geocode('Châteauroux')[-1][0]);\n",
    "tdf0816.set_value(67,'finish_lon',geolocator.geocode('Châteauroux')[-1][1]);\n",
    "\n",
    "tdf0816.set_value(71,'finish_lat',geolocator.geocode('Bagnères-de-Bigorre')[-1][0]);\n",
    "tdf0816.set_value(71,'finish_lon',geolocator.geocode('Bagnères-de-Bigorre')[-1][1]);\n",
    "\n",
    "tdf0816.set_value(80,'finish_lat',geolocator.geocode('Saint-Étienne')[-1][0]);\n",
    "tdf0816.set_value(80,'finish_lon',geolocator.geocode('Saint-Étienne')[-1][1]);\n",
    "\n",
    "tdf0816.set_value(81,'finish_lat',geolocator.geocode('Montluçon')[-1][0]);\n",
    "tdf0816.set_value(81,'finish_lon',geolocator.geocode('Montluçon')[-1][1]);\n",
    "\n",
    "tdf0816.set_value(91,'finish_lat',geolocator.geocode('Bagnères-de-Luchon')[-1][0]);\n",
    "tdf0816.set_value(91,'finish_lon',geolocator.geocode('Bagnères-de-Luchon')[-1][1]);\n",
    "\n",
    "tdf0816.set_value(93,'finish_lat',geolocator.geocode('Revel France')[-1][0]);\n",
    "tdf0816.set_value(93,'finish_lon',geolocator.geocode('Revel France')[-1][1]);\n",
    "\n",
    "tdf0816.set_value(94,'finish_lat',geolocator.geocode('Montpellier')[-1][0]);\n",
    "tdf0816.set_value(94,'finish_lon',geolocator.geocode('Montpellier')[-1][1]);\n",
    "\n",
    "tdf0816.set_value(95,'finish_lat',geolocator.geocode('Mont Ventoux')[-1][0]);\n",
    "tdf0816.set_value(95,'finish_lon',geolocator.geocode('Mont Ventoux')[-1][1]);\n",
    "\n",
    "tdf0816.set_value(115,'finish_lat',geolocator.geocode('Cauterets')[-1][0]);\n",
    "tdf0816.set_value(115,'finish_lon',geolocator.geocode('Cauterets')[-1][1]);\n",
    "\n",
    "tdf0816.set_value(124,'finish_lat',geolocator.geocode(\"Alpe d'Huez France\")[-1][0]);\n",
    "tdf0816.set_value(124,'finish_lon',geolocator.geocode(\"Alpe d'Huez France\")[-1][1]);\n",
    "\n",
    "tdf0816.set_value(130,'finish_lat',geolocator.geocode('Arenberg')[-1][0]);\n",
    "tdf0816.set_value(130,'finish_lon',geolocator.geocode('Arenberg')[-1][1]);\n",
    "\n",
    "tdf0816.set_value(164,'finish_lat',geolocator.geocode(\"Alpe d'Huez France\")[-1][0]);\n",
    "tdf0816.set_value(164,'finish_lon',geolocator.geocode(\"Alpe d'Huez France\")[-1][1]);\n",
    "\n",
    "tdf0816.set_value(181,'finish_lat',geolocator.geocode(\"Le Cap d'Agde\")[-1][0]);\n",
    "tdf0816.set_value(181,'finish_lon',geolocator.geocode(\"Le Cap d'Agde\")[-1][1]);"
   ]
  },
  {
   "cell_type": "code",
   "execution_count": 10,
   "metadata": {
    "ExecuteTime": {
     "end_time": "2017-04-25T18:20:12.290234Z",
     "start_time": "2017-04-25T14:20:12.285563-04:00"
    },
    "collapsed": true
   },
   "outputs": [],
   "source": [
    "pickle.dump(tdf0816,open('tdf0816_geo_data.p','wb'))"
   ]
  },
  {
   "cell_type": "markdown",
   "metadata": {},
   "source": [
    "### Map points to ensure they are reasonable ###"
   ]
  },
  {
   "cell_type": "code",
   "execution_count": 11,
   "metadata": {
    "ExecuteTime": {
     "end_time": "2017-04-25T18:20:12.301500Z",
     "start_time": "2017-04-25T14:20:12.293622-04:00"
    },
    "collapsed": true
   },
   "outputs": [],
   "source": [
    "tdf0816 = pickle.load(open('tdf0816_geo_data.p','rb'))"
   ]
  },
  {
   "cell_type": "code",
   "execution_count": 12,
   "metadata": {
    "ExecuteTime": {
     "end_time": "2017-04-25T18:20:12.356771Z",
     "start_time": "2017-04-25T14:20:12.304768-04:00"
    }
   },
   "outputs": [
    {
     "data": {
      "text/html": [
       "<div>\n",
       "<table border=\"1\" class=\"dataframe\">\n",
       "  <thead>\n",
       "    <tr style=\"text-align: right;\">\n",
       "      <th></th>\n",
       "      <th>category_avg</th>\n",
       "      <th>day</th>\n",
       "      <th>distance</th>\n",
       "      <th>finish</th>\n",
       "      <th>gradient_avg</th>\n",
       "      <th>length_avg</th>\n",
       "      <th>month</th>\n",
       "      <th>num_climbs</th>\n",
       "      <th>num_sprints</th>\n",
       "      <th>sprint_start_avg</th>\n",
       "      <th>stage</th>\n",
       "      <th>start</th>\n",
       "      <th>start_avg</th>\n",
       "      <th>week_day</th>\n",
       "      <th>winning_time</th>\n",
       "      <th>year</th>\n",
       "      <th>start_lat</th>\n",
       "      <th>start_lon</th>\n",
       "      <th>finish_lat</th>\n",
       "      <th>finish_lon</th>\n",
       "    </tr>\n",
       "  </thead>\n",
       "  <tbody>\n",
       "    <tr>\n",
       "      <th>0</th>\n",
       "      <td>1.0</td>\n",
       "      <td>2</td>\n",
       "      <td>191.5</td>\n",
       "      <td>Mont des Alouettes Les Herbiers</td>\n",
       "      <td>4.7</td>\n",
       "      <td>2.2</td>\n",
       "      <td>JULY</td>\n",
       "      <td>1.0</td>\n",
       "      <td>1.0</td>\n",
       "      <td>87.0</td>\n",
       "      <td>1</td>\n",
       "      <td>Passage du Gois La Barre de Monts</td>\n",
       "      <td>191.50</td>\n",
       "      <td>SATURDAY</td>\n",
       "      <td>244.516667</td>\n",
       "      <td>2011</td>\n",
       "      <td>46.884722</td>\n",
       "      <td>-2.116944</td>\n",
       "      <td>46.894774</td>\n",
       "      <td>-1.010258</td>\n",
       "    </tr>\n",
       "    <tr>\n",
       "      <th>1</th>\n",
       "      <td>0.0</td>\n",
       "      <td>3</td>\n",
       "      <td>23.0</td>\n",
       "      <td>Les Essarts</td>\n",
       "      <td>0.0</td>\n",
       "      <td>0.0</td>\n",
       "      <td>JULY</td>\n",
       "      <td>0.0</td>\n",
       "      <td>0.0</td>\n",
       "      <td>0.0</td>\n",
       "      <td>2</td>\n",
       "      <td>Les Essarts</td>\n",
       "      <td>0.00</td>\n",
       "      <td>SUNDAY</td>\n",
       "      <td>24.800000</td>\n",
       "      <td>2011</td>\n",
       "      <td>48.881540</td>\n",
       "      <td>0.984470</td>\n",
       "      <td>48.881540</td>\n",
       "      <td>0.984470</td>\n",
       "    </tr>\n",
       "    <tr>\n",
       "      <th>2</th>\n",
       "      <td>1.0</td>\n",
       "      <td>4</td>\n",
       "      <td>198.0</td>\n",
       "      <td>Redon</td>\n",
       "      <td>4.9</td>\n",
       "      <td>1.1</td>\n",
       "      <td>JULY</td>\n",
       "      <td>1.0</td>\n",
       "      <td>1.0</td>\n",
       "      <td>104.0</td>\n",
       "      <td>3</td>\n",
       "      <td>Olonne sur Mer</td>\n",
       "      <td>143.00</td>\n",
       "      <td>MONDAY</td>\n",
       "      <td>280.350000</td>\n",
       "      <td>2011</td>\n",
       "      <td>46.535868</td>\n",
       "      <td>-1.768702</td>\n",
       "      <td>47.657103</td>\n",
       "      <td>-2.082414</td>\n",
       "    </tr>\n",
       "    <tr>\n",
       "      <th>3</th>\n",
       "      <td>1.5</td>\n",
       "      <td>5</td>\n",
       "      <td>172.5</td>\n",
       "      <td>MÃ»r de Bretagne</td>\n",
       "      <td>6.4</td>\n",
       "      <td>1.8</td>\n",
       "      <td>JULY</td>\n",
       "      <td>2.0</td>\n",
       "      <td>1.0</td>\n",
       "      <td>92.5</td>\n",
       "      <td>4</td>\n",
       "      <td>Lorient</td>\n",
       "      <td>125.75</td>\n",
       "      <td>TUESDAY</td>\n",
       "      <td>251.650000</td>\n",
       "      <td>2011</td>\n",
       "      <td>47.747734</td>\n",
       "      <td>-3.366091</td>\n",
       "      <td>48.196098</td>\n",
       "      <td>-2.982618</td>\n",
       "    </tr>\n",
       "    <tr>\n",
       "      <th>4</th>\n",
       "      <td>1.0</td>\n",
       "      <td>6</td>\n",
       "      <td>164.5</td>\n",
       "      <td>Cap FrÃ©hel</td>\n",
       "      <td>5.1</td>\n",
       "      <td>2.3</td>\n",
       "      <td>JULY</td>\n",
       "      <td>1.0</td>\n",
       "      <td>1.0</td>\n",
       "      <td>87.0</td>\n",
       "      <td>5</td>\n",
       "      <td>Carhaix</td>\n",
       "      <td>45.50</td>\n",
       "      <td>WEDNESDAY</td>\n",
       "      <td>218.533333</td>\n",
       "      <td>2011</td>\n",
       "      <td>48.059228</td>\n",
       "      <td>-2.708137</td>\n",
       "      <td>48.688132</td>\n",
       "      <td>-2.318091</td>\n",
       "    </tr>\n",
       "  </tbody>\n",
       "</table>\n",
       "</div>"
      ],
      "text/plain": [
       "   category_avg day  distance                           finish  gradient_avg  \\\n",
       "0           1.0   2     191.5  Mont des Alouettes Les Herbiers           4.7   \n",
       "1           0.0   3      23.0                      Les Essarts           0.0   \n",
       "2           1.0   4     198.0                            Redon           4.9   \n",
       "3           1.5   5     172.5                 MÃ»r de Bretagne           6.4   \n",
       "4           1.0   6     164.5                      Cap FrÃ©hel           5.1   \n",
       "\n",
       "   length_avg month  num_climbs  num_sprints  sprint_start_avg stage  \\\n",
       "0         2.2  JULY         1.0          1.0              87.0     1   \n",
       "1         0.0  JULY         0.0          0.0               0.0     2   \n",
       "2         1.1  JULY         1.0          1.0             104.0     3   \n",
       "3         1.8  JULY         2.0          1.0              92.5     4   \n",
       "4         2.3  JULY         1.0          1.0              87.0     5   \n",
       "\n",
       "                               start  start_avg   week_day  winning_time  \\\n",
       "0  Passage du Gois La Barre de Monts     191.50   SATURDAY    244.516667   \n",
       "1                        Les Essarts       0.00     SUNDAY     24.800000   \n",
       "2                     Olonne sur Mer     143.00     MONDAY    280.350000   \n",
       "3                            Lorient     125.75    TUESDAY    251.650000   \n",
       "4                            Carhaix      45.50  WEDNESDAY    218.533333   \n",
       "\n",
       "   year  start_lat  start_lon  finish_lat  finish_lon  \n",
       "0  2011  46.884722  -2.116944   46.894774   -1.010258  \n",
       "1  2011  48.881540   0.984470   48.881540    0.984470  \n",
       "2  2011  46.535868  -1.768702   47.657103   -2.082414  \n",
       "3  2011  47.747734  -3.366091   48.196098   -2.982618  \n",
       "4  2011  48.059228  -2.708137   48.688132   -2.318091  "
      ]
     },
     "execution_count": 12,
     "metadata": {},
     "output_type": "execute_result"
    }
   ],
   "source": [
    "tdf0816.head()"
   ]
  },
  {
   "cell_type": "code",
   "execution_count": 13,
   "metadata": {
    "ExecuteTime": {
     "end_time": "2017-04-25T18:20:12.779169Z",
     "start_time": "2017-04-25T14:20:12.370384-04:00"
    }
   },
   "outputs": [
    {
     "data": {
      "image/png": "[encoded data removed]",
      "text/plain": [
       "<matplotlib.figure.Figure at 0x1142c8be0>"
      ]
     },
     "metadata": {},
     "output_type": "display_data"
    }
   ],
   "source": [
    "fig,ax = plt.subplots(figsize=(12,8));\n",
    "\n",
    "ax.scatter(tdf0816.start_lon,tdf0816.start_lat,label='Start Town');\n",
    "ax.scatter(tdf0816.finish_lon,tdf0816.finish_lat,color='blue',label='Finish Town');\n",
    "ax.set(xlim=(-20,20),\n",
    "      ylim=(35,60),\n",
    "      xlabel='Longitude',\n",
    "      ylabel='Latitude',\n",
    "      title='Stage Location Data');\n",
    "ax.legend();"
   ]
  },
  {
   "cell_type": "markdown",
   "metadata": {},
   "source": [
    "Looks like France!"
   ]
  },
  {
   "cell_type": "markdown",
   "metadata": {},
   "source": [
    "### Pickle for later ###"
   ]
  },
  {
   "cell_type": "code",
   "execution_count": 14,
   "metadata": {
    "ExecuteTime": {
     "end_time": "2017-04-25T18:25:29.715434Z",
     "start_time": "2017-04-25T14:25:29.686152-04:00"
    },
    "collapsed": true
   },
   "outputs": [],
   "source": [
    "pickle.dump(tdf0816,open('tdf0816_model.p','wb'))"
   ]
  }
 ],
 "metadata": {
  "kernelspec": {
   "display_name": "Python 3",
   "language": "python",
   "name": "python3"
  },
  "language_info": {
   "codemirror_mode": {
    "name": "ipython",
    "version": 3
   },
   "file_extension": ".py",
   "mimetype": "text/x-python",
   "name": "python",
   "nbconvert_exporter": "python",
   "pygments_lexer": "ipython3",
   "version": "3.5.3"
  },
  "latex_envs": {
   "LaTeX_envs_menu_present": true,
   "autocomplete": true,
   "bibliofile": "biblio.bib",
   "cite_by": "apalike",
   "current_citInitial": 1,
   "eqLabelWithNumbers": true,
   "eqNumInitial": 1,
   "hotkeys": {
    "equation": "Ctrl-E",
    "itemize": "Ctrl-I"
   },
   "labels_anchors": false,
   "latex_user_defs": false,
   "report_style_numbering": false,
   "user_envs_cfg": false
  },
  "varInspector": {
   "cols": {
    "lenName": 16,
    "lenType": 16,
    "lenVar": 40
   },
   "kernels_config": {
    "python": {
     "delete_cmd_postfix": "",
     "delete_cmd_prefix": "del ",
     "library": "var_list.py",
     "varRefreshCmd": "print(var_dic_list())"
    },
    "r": {
     "delete_cmd_postfix": ") ",
     "delete_cmd_prefix": "rm(",
     "library": "var_list.r",
     "varRefreshCmd": "cat(var_dic_list()) "
    }
   },
   "types_to_exclude": [
    "module",
    "function",
    "builtin_function_or_method",
    "instance",
    "_Feature"
   ],
   "window_display": false
  }
 },
 "nbformat": 4,
 "nbformat_minor": 2
}
