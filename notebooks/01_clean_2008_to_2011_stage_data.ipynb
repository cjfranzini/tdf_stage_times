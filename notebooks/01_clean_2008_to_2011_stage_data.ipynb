{
 "cells": [
  {
   "cell_type": "markdown",
   "metadata": {},
   "source": [
    "# Clean Tour de France stage data from 2008 to 2011\n",
    "This notebook imports stage data gathered from [bikeraceinfo.com](http://www.bikeraceinfo.com) for the years 2008 to 2011, cleans it, and prepares it to be joined with data from 2012 to 2016."
   ]
  },
  {
   "cell_type": "code",
   "execution_count": 1,
   "metadata": {
    "ExecuteTime": {
     "end_time": "2017-04-25T03:03:15.237280Z",
     "start_time": "2017-04-24T23:03:14.387598-04:00"
    },
    "collapsed": true
   },
   "outputs": [],
   "source": [
    "import pandas as pd\n",
    "import csv\n",
    "import pickle"
   ]
  },
  {
   "cell_type": "markdown",
   "metadata": {},
   "source": [
    "### Load in raw data, clean, and pickle ###"
   ]
  },
  {
   "cell_type": "code",
   "execution_count": 2,
   "metadata": {
    "ExecuteTime": {
     "end_time": "2017-04-25T03:03:15.255657Z",
     "start_time": "2017-04-24T23:03:15.239337-04:00"
    },
    "collapsed": true
   },
   "outputs": [],
   "source": [
    "tdf_0811 = pd.read_csv(\"tdf2011_prior.csv\",dtype=str,quoting=csv.QUOTE_NONE)"
   ]
  },
  {
   "cell_type": "code",
   "execution_count": 3,
   "metadata": {
    "ExecuteTime": {
     "end_time": "2017-04-25T03:03:15.265449Z",
     "start_time": "2017-04-24T23:03:15.258650-04:00"
    },
    "collapsed": true
   },
   "outputs": [],
   "source": [
    "# remove whitespace from column names\n",
    "new_cols = {col: col.strip() for col in tdf_0811.columns}\n",
    "tdf_0811.rename(columns=new_cols, inplace=True)"
   ]
  },
  {
   "cell_type": "code",
   "execution_count": 4,
   "metadata": {
    "ExecuteTime": {
     "end_time": "2017-04-25T03:03:15.275948Z",
     "start_time": "2017-04-24T23:03:15.268491-04:00"
    },
    "collapsed": true
   },
   "outputs": [],
   "source": [
    "# manually add missing winning time data point\n",
    "tdf_0811.set_value(35,'winning_time',\"4h 52' 42\");"
   ]
  },
  {
   "cell_type": "code",
   "execution_count": 5,
   "metadata": {
    "ExecuteTime": {
     "end_time": "2017-04-25T03:03:15.331930Z",
     "start_time": "2017-04-24T23:03:15.279415-04:00"
    },
    "collapsed": true
   },
   "outputs": [],
   "source": [
    "# reformat column datatypes\n",
    "tdf_0811['distance'] = tdf_0811.distance.apply(lambda x: float(x))\n",
    "tdf_0811['num_climbs'] = tdf_0811.num_climbs.apply(lambda x: int(x))\n",
    "\n",
    "for col in tdf_0811.columns[9:41]:\n",
    "    tdf_0811[col] = tdf_0811[col].apply(lambda x: float(x))\n",
    "    \n",
    "for col in tdf_0811.columns[42:]:\n",
    "    tdf_0811[col] = tdf_0811[col].apply(lambda x: float(x))"
   ]
  },
  {
   "cell_type": "code",
   "execution_count": 6,
   "metadata": {
    "ExecuteTime": {
     "end_time": "2017-04-25T03:03:15.359685Z",
     "start_time": "2017-04-24T23:03:15.334023-04:00"
    },
    "collapsed": true
   },
   "outputs": [],
   "source": [
    "# convert winning times from strings to floats in minutes\n",
    "for i in tdf_0811.index:\n",
    "    try:\n",
    "        time = tdf_0811.winning_time[i].strip('\"').split()\n",
    "        if len(time) > 2:\n",
    "            hours = time[0].strip('h')\n",
    "            mins = time[1].strip(\"'\")\n",
    "            secs = time[2].strip()\n",
    "        else:\n",
    "            hours = 0\n",
    "            mins = time[0].strip(\"'\")\n",
    "            secs = time[1].strip()\n",
    "\n",
    "        total = float(hours) * 60.0 + float(mins) + float(secs)/60.0\n",
    "\n",
    "        tdf_0811.set_value(i,'total_mins',total)\n",
    "    except:\n",
    "        tdf_0811.set_value(i,'total_mins',None)\n",
    "        print('Row ' + str(i) + ' failed')"
   ]
  },
  {
   "cell_type": "code",
   "execution_count": 7,
   "metadata": {
    "ExecuteTime": {
     "end_time": "2017-04-25T03:03:15.372796Z",
     "start_time": "2017-04-24T23:03:15.363230-04:00"
    },
    "collapsed": true
   },
   "outputs": [],
   "source": [
    "# drop old winning time column and rename total minutes to winning time\n",
    "tdf_0811.drop('winning_time',axis=1,inplace=True)\n",
    "\n",
    "new_col = {'total_mins': 'winning_time'}\n",
    "tdf_0811.rename(columns=new_col, inplace=True)"
   ]
  },
  {
   "cell_type": "code",
   "execution_count": 8,
   "metadata": {
    "ExecuteTime": {
     "end_time": "2017-04-25T03:03:15.429202Z",
     "start_time": "2017-04-24T23:03:15.376982-04:00"
    },
    "collapsed": true
   },
   "outputs": [],
   "source": [
    "# climb categories were incorrectly encoded, correcting this\n",
    "cols = ['climb_0_category',\n",
    "       'climb_1_category',\n",
    "       'climb_2_category',\n",
    "       'climb_3_category',\n",
    "        'climb_4_category',\n",
    "       'climb_5_category',\n",
    "       'climb_6_category',\n",
    "       'climb_7_category']\n",
    "\n",
    "for i in tdf_0811.index:\n",
    "    num_climbs = tdf_0811.num_climbs[i]\n",
    "    \n",
    "    if num_climbs == 0:\n",
    "        pass\n",
    "    else:\n",
    "        for col in cols[:int(num_climbs)+1]:\n",
    "            cat = tdf_0811[col][i]\n",
    "            if cat == 0:\n",
    "                cat = 5\n",
    "            elif cat == 1:\n",
    "                cat = 4\n",
    "            elif cat == 2:\n",
    "                cat = 3\n",
    "            elif cat == 3:\n",
    "                cat = 2\n",
    "            elif cat == 4:\n",
    "                cat = 1\n",
    "            else:\n",
    "                cat = 5\n",
    "                \n",
    "            tdf_0811.set_value(i,col,cat)\n",
    "            \n",
    "        for col in cols[int(num_climbs):]:\n",
    "            cat = 0\n",
    "            tdf_0811.set_value(i,col,cat)"
   ]
  },
  {
   "cell_type": "code",
   "execution_count": 9,
   "metadata": {
    "ExecuteTime": {
     "end_time": "2017-04-25T03:03:16.448058Z",
     "start_time": "2017-04-24T23:03:15.431450-04:00"
    },
    "collapsed": true
   },
   "outputs": [],
   "source": [
    "# average each stage's climb data and store as new columns\n",
    "def climb_averages(df,features=['category','length','start','gradient']):\n",
    "    climb_labels = ['climb_0_',\n",
    "                    'climb_1_',\n",
    "                    'climb_2_',\n",
    "                    'climb_3_',\n",
    "                    'climb_4_',\n",
    "                    'climb_5_',\n",
    "                    'climb_6_',\n",
    "                    'climb_7_']\n",
    "    \n",
    "    for feature in features:\n",
    "        \n",
    "        for i in df.index:\n",
    "            values = [df.loc[i,label+feature] for label in climb_labels]\n",
    "            num_climbs = df.loc[i,'num_climbs']\n",
    "            \n",
    "            if num_climbs > 0:\n",
    "                avg = sum(values)/float(num_climbs)\n",
    "            else:\n",
    "                avg = 0.0\n",
    "            \n",
    "            df.set_value(i,feature+'_avg',avg)\n",
    "     \n",
    "    return df\n",
    "\n",
    "tdf_0811 = climb_averages(tdf_0811)"
   ]
  },
  {
   "cell_type": "code",
   "execution_count": 10,
   "metadata": {
    "ExecuteTime": {
     "end_time": "2017-04-25T03:03:16.561499Z",
     "start_time": "2017-04-24T23:03:16.450489-04:00"
    },
    "collapsed": true
   },
   "outputs": [],
   "source": [
    "# average starting point for each stage's sprints and store as new column\n",
    "cols = ['sprint_0_start',\n",
    "       'sprint_1_start',\n",
    "       'sprint_2_start']\n",
    "\n",
    "for i in tdf_0811.index:\n",
    "    starts = [tdf_0811.loc[i,col] for col in cols]\n",
    "    num_starts= [start for start in starts if start != 0]\n",
    "    if len(num_starts) > 0:\n",
    "        avg_start = sum(starts)/len(num_starts)\n",
    "    else:\n",
    "        avg_start = 0.0\n",
    "    tdf_0811.set_value(i, 'num_sprints',len(num_starts))\n",
    "    tdf_0811.set_value(i,'sprint_start_avg',avg_start)"
   ]
  },
  {
   "cell_type": "code",
   "execution_count": 11,
   "metadata": {
    "ExecuteTime": {
     "end_time": "2017-04-25T03:03:16.569757Z",
     "start_time": "2017-04-24T23:03:16.563701-04:00"
    },
    "collapsed": true
   },
   "outputs": [],
   "source": [
    "# reformat week day and month data to match 2012-2016 data\n",
    "tdf_0811['week_day'] = tdf_0811.week_day.apply(lambda x: x.upper())\n",
    "tdf_0811['month'] = tdf_0811.month.apply(lambda x: x.upper())"
   ]
  },
  {
   "cell_type": "code",
   "execution_count": 12,
   "metadata": {
    "ExecuteTime": {
     "end_time": "2017-04-25T03:03:16.579802Z",
     "start_time": "2017-04-24T23:03:16.572865-04:00"
    },
    "collapsed": true
   },
   "outputs": [],
   "source": [
    "# pickle cleaned data\n",
    "pickle.dump(tdf_0811,open('tdf_0811_full.p','wb'))"
   ]
  },
  {
   "cell_type": "code",
   "execution_count": 13,
   "metadata": {
    "ExecuteTime": {
     "end_time": "2017-04-25T03:03:16.597248Z",
     "start_time": "2017-04-24T23:03:16.582928-04:00"
    },
    "collapsed": true
   },
   "outputs": [],
   "source": [
    "# drop extraneous columns\n",
    "tdf_0811.drop(['climb_0_start', 'climb_0_category',\n",
    "       'climb_0_gradient', 'climb_0_length', 'climb_1_start',\n",
    "       'climb_1_category', 'climb_1_gradient', 'climb_1_length',\n",
    "       'climb_2_start', 'climb_2_category', 'climb_2_gradient',\n",
    "       'climb_2_length', 'climb_3_start', 'climb_3_category',\n",
    "       'climb_3_gradient', 'climb_3_length', 'climb_4_start',\n",
    "       'climb_4_category', 'climb_4_gradient', 'climb_4_length',\n",
    "       'climb_5_start', 'climb_5_category', 'climb_5_gradient',\n",
    "       'climb_5_length', 'climb_6_start', 'climb_6_category',\n",
    "       'climb_6_gradient', 'climb_6_length', 'climb_7_start',\n",
    "       'climb_7_category', 'climb_7_gradient', 'climb_7_length',\n",
    "       'sprint_0_start', 'sprint_1_start', 'sprint_2_start'],axis=1,inplace=True)"
   ]
  },
  {
   "cell_type": "code",
   "execution_count": 14,
   "metadata": {
    "ExecuteTime": {
     "end_time": "2017-04-25T03:03:16.653652Z",
     "start_time": "2017-04-24T23:03:16.599818-04:00"
    }
   },
   "outputs": [
    {
     "data": {
      "text/html": [
       "<div>\n",
       "<table border=\"1\" class=\"dataframe\">\n",
       "  <thead>\n",
       "    <tr style=\"text-align: right;\">\n",
       "      <th></th>\n",
       "      <th>year</th>\n",
       "      <th>stage</th>\n",
       "      <th>week_day</th>\n",
       "      <th>month</th>\n",
       "      <th>day</th>\n",
       "      <th>start</th>\n",
       "      <th>finish</th>\n",
       "      <th>distance</th>\n",
       "      <th>num_climbs</th>\n",
       "      <th>winning_time</th>\n",
       "      <th>category_avg</th>\n",
       "      <th>length_avg</th>\n",
       "      <th>start_avg</th>\n",
       "      <th>gradient_avg</th>\n",
       "      <th>num_sprints</th>\n",
       "      <th>sprint_start_avg</th>\n",
       "    </tr>\n",
       "  </thead>\n",
       "  <tbody>\n",
       "    <tr>\n",
       "      <th>0</th>\n",
       "      <td>2011</td>\n",
       "      <td>1</td>\n",
       "      <td>SATURDAY</td>\n",
       "      <td>JULY</td>\n",
       "      <td>2</td>\n",
       "      <td>Passage du Gois La Barre de Monts</td>\n",
       "      <td>Mont des Alouettes Les Herbiers</td>\n",
       "      <td>191.5</td>\n",
       "      <td>1</td>\n",
       "      <td>244.516667</td>\n",
       "      <td>1.0</td>\n",
       "      <td>2.2</td>\n",
       "      <td>191.50</td>\n",
       "      <td>4.7</td>\n",
       "      <td>1.0</td>\n",
       "      <td>87.0</td>\n",
       "    </tr>\n",
       "    <tr>\n",
       "      <th>1</th>\n",
       "      <td>2011</td>\n",
       "      <td>2</td>\n",
       "      <td>SUNDAY</td>\n",
       "      <td>JULY</td>\n",
       "      <td>3</td>\n",
       "      <td>Les Essarts</td>\n",
       "      <td>Les Essarts</td>\n",
       "      <td>23.0</td>\n",
       "      <td>0</td>\n",
       "      <td>24.800000</td>\n",
       "      <td>0.0</td>\n",
       "      <td>0.0</td>\n",
       "      <td>0.00</td>\n",
       "      <td>0.0</td>\n",
       "      <td>0.0</td>\n",
       "      <td>0.0</td>\n",
       "    </tr>\n",
       "    <tr>\n",
       "      <th>2</th>\n",
       "      <td>2011</td>\n",
       "      <td>3</td>\n",
       "      <td>MONDAY</td>\n",
       "      <td>JULY</td>\n",
       "      <td>4</td>\n",
       "      <td>Olonne sur Mer</td>\n",
       "      <td>Redon</td>\n",
       "      <td>198.0</td>\n",
       "      <td>1</td>\n",
       "      <td>280.350000</td>\n",
       "      <td>1.0</td>\n",
       "      <td>1.1</td>\n",
       "      <td>143.00</td>\n",
       "      <td>4.9</td>\n",
       "      <td>1.0</td>\n",
       "      <td>104.0</td>\n",
       "    </tr>\n",
       "    <tr>\n",
       "      <th>3</th>\n",
       "      <td>2011</td>\n",
       "      <td>4</td>\n",
       "      <td>TUESDAY</td>\n",
       "      <td>JULY</td>\n",
       "      <td>5</td>\n",
       "      <td>Lorient</td>\n",
       "      <td>MÃ»r de Bretagne</td>\n",
       "      <td>172.5</td>\n",
       "      <td>2</td>\n",
       "      <td>251.650000</td>\n",
       "      <td>1.5</td>\n",
       "      <td>1.8</td>\n",
       "      <td>125.75</td>\n",
       "      <td>6.4</td>\n",
       "      <td>1.0</td>\n",
       "      <td>92.5</td>\n",
       "    </tr>\n",
       "    <tr>\n",
       "      <th>4</th>\n",
       "      <td>2011</td>\n",
       "      <td>5</td>\n",
       "      <td>WEDNESDAY</td>\n",
       "      <td>JULY</td>\n",
       "      <td>6</td>\n",
       "      <td>Carhaix</td>\n",
       "      <td>Cap FrÃ©hel</td>\n",
       "      <td>164.5</td>\n",
       "      <td>1</td>\n",
       "      <td>218.533333</td>\n",
       "      <td>1.0</td>\n",
       "      <td>2.3</td>\n",
       "      <td>45.50</td>\n",
       "      <td>5.1</td>\n",
       "      <td>1.0</td>\n",
       "      <td>87.0</td>\n",
       "    </tr>\n",
       "  </tbody>\n",
       "</table>\n",
       "</div>"
      ],
      "text/plain": [
       "   year stage   week_day month day                              start  \\\n",
       "0  2011     1   SATURDAY  JULY   2  Passage du Gois La Barre de Monts   \n",
       "1  2011     2     SUNDAY  JULY   3                        Les Essarts   \n",
       "2  2011     3     MONDAY  JULY   4                     Olonne sur Mer   \n",
       "3  2011     4    TUESDAY  JULY   5                            Lorient   \n",
       "4  2011     5  WEDNESDAY  JULY   6                            Carhaix   \n",
       "\n",
       "                            finish  distance  num_climbs  winning_time  \\\n",
       "0  Mont des Alouettes Les Herbiers     191.5           1    244.516667   \n",
       "1                      Les Essarts      23.0           0     24.800000   \n",
       "2                            Redon     198.0           1    280.350000   \n",
       "3                 MÃ»r de Bretagne     172.5           2    251.650000   \n",
       "4                      Cap FrÃ©hel     164.5           1    218.533333   \n",
       "\n",
       "   category_avg  length_avg  start_avg  gradient_avg  num_sprints  \\\n",
       "0           1.0         2.2     191.50           4.7          1.0   \n",
       "1           0.0         0.0       0.00           0.0          0.0   \n",
       "2           1.0         1.1     143.00           4.9          1.0   \n",
       "3           1.5         1.8     125.75           6.4          1.0   \n",
       "4           1.0         2.3      45.50           5.1          1.0   \n",
       "\n",
       "   sprint_start_avg  \n",
       "0              87.0  \n",
       "1               0.0  \n",
       "2             104.0  \n",
       "3              92.5  \n",
       "4              87.0  "
      ]
     },
     "execution_count": 14,
     "metadata": {},
     "output_type": "execute_result"
    }
   ],
   "source": [
    "tdf_0811.head()"
   ]
  },
  {
   "cell_type": "code",
   "execution_count": 15,
   "metadata": {
    "ExecuteTime": {
     "end_time": "2017-04-25T03:03:16.663641Z",
     "start_time": "2017-04-24T23:03:16.657412-04:00"
    },
    "collapsed": true
   },
   "outputs": [],
   "source": [
    "# pickle for later\n",
    "pickle.dump(tdf_0811,open('tdf_0811_geo.p','wb'))"
   ]
  }
 ],
 "metadata": {
  "kernelspec": {
   "display_name": "Python 3",
   "language": "python",
   "name": "python3"
  },
  "language_info": {
   "codemirror_mode": {
    "name": "ipython",
    "version": 3
   },
   "file_extension": ".py",
   "mimetype": "text/x-python",
   "name": "python",
   "nbconvert_exporter": "python",
   "pygments_lexer": "ipython3",
   "version": "3.5.3"
  },
  "latex_envs": {
   "LaTeX_envs_menu_present": true,
   "autocomplete": true,
   "bibliofile": "biblio.bib",
   "cite_by": "apalike",
   "current_citInitial": 1,
   "eqLabelWithNumbers": true,
   "eqNumInitial": 1,
   "hotkeys": {
    "equation": "Ctrl-E",
    "itemize": "Ctrl-I"
   },
   "labels_anchors": false,
   "latex_user_defs": false,
   "report_style_numbering": false,
   "user_envs_cfg": false
  },
  "varInspector": {
   "cols": {
    "lenName": 16,
    "lenType": 16,
    "lenVar": 40
   },
   "kernels_config": {
    "python": {
     "delete_cmd_postfix": "",
     "delete_cmd_prefix": "del ",
     "library": "var_list.py",
     "varRefreshCmd": "print(var_dic_list())"
    },
    "r": {
     "delete_cmd_postfix": ") ",
     "delete_cmd_prefix": "rm(",
     "library": "var_list.r",
     "varRefreshCmd": "cat(var_dic_list()) "
    }
   },
   "types_to_exclude": [
    "module",
    "function",
    "builtin_function_or_method",
    "instance",
    "_Feature"
   ],
   "window_display": false
  }
 },
 "nbformat": 4,
 "nbformat_minor": 2
}
